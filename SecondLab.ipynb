{
 "cells": [
  {
   "cell_type": "code",
   "execution_count": 5,
   "metadata": {},
   "outputs": [
    {
     "name": "stdout",
     "output_type": "stream",
     "text": [
      "student Enrolled\n",
      "student Enrolled\n",
      "student Enrolled\n",
      "student Enrolled\n",
      "student Enrolled\n",
      "Places Full\n",
      "sapId: 70120545 cgpa: 3.5 number: 03227893004 cnic: 34601-098765-2\n",
      "sapId: 70120345 cgpa: 3.8 number: 03228993004 cnic: 34601-029824-2\n",
      "sapId: 70120522 cgpa: 2.5 number: 03227823003 cnic: 34601-094833-2\n",
      "sapId: 70120533 cgpa: 3.6 number: 03227833004 cnic: 10601-098765-2\n",
      "sapId: 70120520 cgpa: 1.5 number: 03227893450 cnic: 45601-098765-2\n"
     ]
    }
   ],
   "source": [
    "class Student:\n",
    "    def __init__(self, sapid, cgpa, number, cnic) -> None:\n",
    "        self.sapid = sapid\n",
    "        self.cgpa = cgpa\n",
    "        self.number = number\n",
    "        self.cnic = cnic\n",
    "\n",
    "class EnrollMent:\n",
    "    def __init__(self) -> None:\n",
    "        self.maxStudents = 0\n",
    "        self.students = []\n",
    "\n",
    "    def enroll(self, student):\n",
    "        if(self.maxStudents < 5):\n",
    "            self.students.append(Student(student.sapid, student.cgpa, student.number, student.cnic))\n",
    "            print(\"student Enrolled\")\n",
    "            self.maxStudents += 1\n",
    "        else:\n",
    "            print(\"Places Full\")\n",
    "\n",
    "    def displayAll(self):\n",
    "        for student in self.students:\n",
    "            print(f'sapId: {student.sapid} cgpa: {student.cgpa} number: {student.number} cnic: {student.cnic}')\n",
    "\n",
    "def main():\n",
    "    s1 = Student(\"70120545\", \"3.5\", \"03227893004\", \"34601-098765-2\")\n",
    "    s2 = Student(\"70120345\", \"3.8\", \"03228993004\", \"34601-029824-2\")\n",
    "    s3 = Student(\"70120522\", \"2.5\", \"03227823003\", \"34601-094833-2\")\n",
    "    s4 = Student(\"70120533\", \"3.6\", \"03227833004\", \"10601-098765-2\")\n",
    "    s5 = Student(\"70120520\", \"1.5\", \"03227893450\", \"45601-098765-2\")\n",
    "    s6 = Student(\"70120510\", \"1.5\", \"03227893450\", \"45601-098765-2\")\n",
    "\n",
    "    enrollment = EnrollMent()\n",
    "    enrollment.enroll(s1)\n",
    "    enrollment.enroll(s2)\n",
    "    enrollment.enroll(s3)\n",
    "    enrollment.enroll(s4)\n",
    "    enrollment.enroll(s5)\n",
    "    enrollment.enroll(s6)\n",
    "\n",
    "    enrollment.displayAll()\n",
    "\n",
    "main()\n",
    "\n"
   ]
  }
 ],
 "metadata": {
  "kernelspec": {
   "display_name": "Python 3",
   "language": "python",
   "name": "python3"
  },
  "language_info": {
   "codemirror_mode": {
    "name": "ipython",
    "version": 3
   },
   "file_extension": ".py",
   "mimetype": "text/x-python",
   "name": "python",
   "nbconvert_exporter": "python",
   "pygments_lexer": "ipython3",
   "version": "3.9.6"
  }
 },
 "nbformat": 4,
 "nbformat_minor": 2
}
