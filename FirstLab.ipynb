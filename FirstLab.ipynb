{
 "cells": [
  {
   "cell_type": "code",
   "execution_count": 3,
   "metadata": {},
   "outputs": [
    {
     "name": "stdout",
     "output_type": "stream",
     "text": [
      "6\n"
     ]
    }
   ],
   "source": [
    "num1 = int(input())\n",
    "num2 = int(input())\n",
    "print(num1 + num2)"
   ]
  },
  {
   "cell_type": "code",
   "execution_count": 4,
   "metadata": {},
   "outputs": [
    {
     "name": "stdout",
     "output_type": "stream",
     "text": [
      "Hasham Asad\n"
     ]
    }
   ],
   "source": [
    "firstname = input(\"Enter Your Name\")\n",
    "lastName = input(\"Enter Your Father Name\")\n",
    "print(f'{firstname} {lastName}')"
   ]
  },
  {
   "cell_type": "code",
   "execution_count": 6,
   "metadata": {},
   "outputs": [
    {
     "name": "stdout",
     "output_type": "stream",
     "text": [
      "4\n"
     ]
    }
   ],
   "source": [
    "num = int(input())\n",
    "print(num ** num)"
   ]
  },
  {
   "cell_type": "code",
   "execution_count": 7,
   "metadata": {},
   "outputs": [
    {
     "name": "stdout",
     "output_type": "stream",
     "text": [
      "10\n",
      "9\n",
      "8\n",
      "7\n",
      "6\n",
      "5\n",
      "4\n",
      "3\n",
      "2\n",
      "1\n"
     ]
    }
   ],
   "source": [
    "for i in range(10, 0, -1):\n",
    "    print(i)"
   ]
  },
  {
   "cell_type": "code",
   "execution_count": 12,
   "metadata": {},
   "outputs": [
    {
     "name": "stdout",
     "output_type": "stream",
     "text": [
      "1 Index:0\n",
      "Hasham Index:1\n",
      "3 Index:2\n",
      "7 Index:3\n",
      "8 Index:4\n",
      "1\n",
      "Hasham\n",
      "3\n",
      "7\n",
      "8\n"
     ]
    }
   ],
   "source": [
    "array = [1, 'Hasham', 3,7,8]\n",
    "for i in range(0, len(array)):\n",
    "    print(f\"{array[i]} Index:{i}\")\n",
    "\n",
    "for i in array:\n",
    "    print(i)"
   ]
  },
  {
   "cell_type": "code",
   "execution_count": 15,
   "metadata": {},
   "outputs": [
    {
     "name": "stdout",
     "output_type": "stream",
     "text": [
      "H\n",
      "a\n",
      "s\n",
      "h\n",
      "a\n",
      "m\n",
      " \n",
      "A\n",
      "s\n",
      "a\n",
      "d\n"
     ]
    }
   ],
   "source": [
    "list = [\"Hasham Asad\", \"22\", \"70120545\"]\n",
    "for i in list[0]:\n",
    "    print(i)\n",
    "# print(list[0][4])"
   ]
  },
  {
   "cell_type": "markdown",
   "metadata": {},
   "source": []
  },
  {
   "cell_type": "code",
   "execution_count": 27,
   "metadata": {},
   "outputs": [
    {
     "name": "stdout",
     "output_type": "stream",
     "text": [
      "16\n"
     ]
    }
   ],
   "source": [
    "def power(b, e):\n",
    "    p = 1\n",
    "    for i in range(0, e):\n",
    "        p *= b\n",
    "    return p\n",
    "\n",
    "print(power(2,4))"
   ]
  },
  {
   "cell_type": "code",
   "execution_count": 41,
   "metadata": {},
   "outputs": [
    {
     "name": "stdout",
     "output_type": "stream",
     "text": [
      "2 + 1\n",
      "3 + 3\n",
      "4 + 6\n",
      "5 + 10\n",
      "[1, 3, 6, 10, 15]\n"
     ]
    }
   ],
   "source": [
    "def subtotal(values):\n",
    "    array = []\n",
    "    for i in range(1, len(values), 1):\n",
    "        values[i] += values[i - 1]\n",
    "    return values\n",
    "\n",
    "print(subtotal([1,2,3,4,5]))"
   ]
  },
  {
   "cell_type": "code",
   "execution_count": 47,
   "metadata": {},
   "outputs": [
    {
     "name": "stdout",
     "output_type": "stream",
     "text": [
      "upperCase: 1 lowerCase: 9 spaces: 1\n"
     ]
    }
   ],
   "source": [
    "def counter(charArray):\n",
    "    uppercase, lowercase, spaces = 0, 0, 0\n",
    "    for i in charArray:\n",
    "        if i.isupper():\n",
    "            uppercase += 1\n",
    "        elif i.islower():\n",
    "            lowercase += 1\n",
    "        else:\n",
    "            spaces += 1\n",
    "    print(f'upperCase: {uppercase} lowerCase: {lowercase} spaces: {spaces}')\n",
    "\n",
    "counter(['H','a', 's', 'h', 'a', 'm', ' ', 'a', 's', 'a', 'd']) "
   ]
  }
 ],
 "metadata": {
  "kernelspec": {
   "display_name": "Python 3",
   "language": "python",
   "name": "python3"
  },
  "language_info": {
   "codemirror_mode": {
    "name": "ipython",
    "version": 3
   },
   "file_extension": ".py",
   "mimetype": "text/x-python",
   "name": "python",
   "nbconvert_exporter": "python",
   "pygments_lexer": "ipython3",
   "version": "3.9.6"
  }
 },
 "nbformat": 4,
 "nbformat_minor": 2
}
