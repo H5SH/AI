{
 "cells": [
  {
   "cell_type": "code",
   "execution_count": 5,
   "metadata": {},
   "outputs": [
    {
     "name": "stdout",
     "output_type": "stream",
     "text": [
      "positive numbers: 2, negative numbers: 1, odd numbers: 2, even numbers: 3, zeros: 2\n"
     ]
    }
   ],
   "source": [
    "# Tast 1\n",
    "positive, negative, odd, even, zero = 0, 0, 0, 0, 0\n",
    "array = []\n",
    "number = 0\n",
    "for _ in range(20):\n",
    "    number = int(input(\"Enter number\"))\n",
    "    array.append(number)\n",
    "    if number < 0:\n",
    "        negative += 1\n",
    "    if number > 0:\n",
    "        positive += 1\n",
    "    if number == 0:\n",
    "        zero += 1\n",
    "    if number % 2 == 0:\n",
    "        even += 1\n",
    "    if number % 2 > 0:\n",
    "        odd += 1\n",
    "\n",
    "print(f\"positive numbers: {positive}, negative numbers: {negative}, odd numbers: {odd}, even numbers: {even}, zeros: {zero}\")"
   ]
  },
  {
   "cell_type": "code",
   "execution_count": 12,
   "metadata": {},
   "outputs": [
    {
     "name": "stdout",
     "output_type": "stream",
     "text": [
      "[10, 9, 8, 7, 6, 5, 4, 3, 2]\n"
     ]
    }
   ],
   "source": [
    "# Task 2\n",
    "arr1 = []\n",
    "reverseArr = []\n",
    "\n",
    "for _ in range(10):\n",
    "    arr1.append(int(input(\"Enter number\")))\n",
    "\n",
    "for i in range(10 - 1, 0, -1):\n",
    "    reverseArr.append(arr1[i])\n",
    "\n",
    "print(reverseArr)"
   ]
  },
  {
   "cell_type": "code",
   "execution_count": 14,
   "metadata": {},
   "outputs": [
    {
     "name": "stdout",
     "output_type": "stream",
     "text": [
      "15\n"
     ]
    }
   ],
   "source": [
    "# Task 3\n",
    "arr = [1, 2, 3, 4, 5]\n",
    "\n",
    "for i in range(1, len(arr), 1):\n",
    "    arr[0] += arr[i]\n",
    "\n",
    "print(arr[0])"
   ]
  },
  {
   "cell_type": "code",
   "execution_count": 15,
   "metadata": {},
   "outputs": [
    {
     "name": "stdout",
     "output_type": "stream",
     "text": [
      "120\n"
     ]
    }
   ],
   "source": [
    "# Task 4\n",
    "arr = [1, 2, 3, 4, 5]\n",
    "\n",
    "for i in range(1, len(arr), 1):\n",
    "    arr[0] *= arr[i]\n",
    "\n",
    "print(arr[0])"
   ]
  },
  {
   "cell_type": "code",
   "execution_count": 18,
   "metadata": {},
   "outputs": [
    {
     "name": "stdout",
     "output_type": "stream",
     "text": [
      "Largest: 5, Smallest: 1\n"
     ]
    }
   ],
   "source": [
    "# Task 5\n",
    "arr = [1, 2, 3, 4, 5]\n",
    "largest = -1000\n",
    "smallest = 1000\n",
    "\n",
    "for i in range(0, len(arr), 1):\n",
    "    if largest < arr[i]:\n",
    "        largest = arr[i]\n",
    "\n",
    "    if smallest > arr[i]:\n",
    "        smallest = arr[i]\n",
    "\n",
    "print(f\"Largest: {largest}, Smallest: {smallest}\")"
   ]
  },
  {
   "cell_type": "code",
   "execution_count": 26,
   "metadata": {},
   "outputs": [
    {
     "name": "stdout",
     "output_type": "stream",
     "text": [
      "[2, 1, 1, 1, 1]\n"
     ]
    }
   ],
   "source": [
    "# Task 6\n",
    "arr = [1, 1, 1, 1, 2]\n",
    "if arr == arr[::-1]:\n",
    "    print(\"List is a palindrome\")"
   ]
  },
  {
   "cell_type": "code",
   "execution_count": 27,
   "metadata": {},
   "outputs": [
    {
     "name": "stdout",
     "output_type": "stream",
     "text": [
      "car bike bus\n"
     ]
    }
   ],
   "source": [
    "# Task 7\n",
    "tipu = (\"car\", \"bike\", \"bus\")\n",
    "car, bike, bus = tipu\n",
    "print(car, bike, bus)"
   ]
  },
  {
   "cell_type": "code",
   "execution_count": 31,
   "metadata": {},
   "outputs": [
    {
     "name": "stdout",
     "output_type": "stream",
     "text": [
      "('car', 'bike', 'bus', 'Plane')\n"
     ]
    }
   ],
   "source": [
    "# Task 8\n",
    "tipu = (\"car\", \"bike\", \"bus\")\n",
    "tipu = tipu + (\"Plane\",)\n",
    "print(tipu)"
   ]
  },
  {
   "cell_type": "code",
   "execution_count": 34,
   "metadata": {},
   "outputs": [
    {
     "data": {
      "text/plain": [
       "{'car': 'car', 'bike': 'bike', 'bus': 'bus'}"
      ]
     },
     "execution_count": 34,
     "metadata": {},
     "output_type": "execute_result"
    }
   ],
   "source": [
    "# Task 9\n",
    "tipu = ((car, \"car\"), (bike, \"bike\"), (bus, \"bus\"))\n",
    "dict((type, payload) for type, payload in tipu)"
   ]
  },
  {
   "cell_type": "code",
   "execution_count": 36,
   "metadata": {},
   "outputs": [
    {
     "data": {
      "text/plain": [
       "('bus', 'bike', 'car')"
      ]
     },
     "execution_count": 36,
     "metadata": {},
     "output_type": "execute_result"
    }
   ],
   "source": [
    "# Task 10\n",
    "tipu = (\"car\", \"bike\", \"bus\")\n",
    "tuple(tipu[::-1])"
   ]
  },
  {
   "cell_type": "code",
   "execution_count": 37,
   "metadata": {},
   "outputs": [
    {
     "name": "stdout",
     "output_type": "stream",
     "text": [
      "[1, 11, 11, 11, 11]\n"
     ]
    }
   ],
   "source": [
    "# Task 11\n",
    "arr1 = [1, 2, 3, 4, 5]\n",
    "arr2 = [0, 9, 8, 7, 6]\n",
    "mainArray = []\n",
    "i = 0\n",
    "while(i < len(arr1) or i < len(arr2)):\n",
    "    mainArray.append(arr1[i] + arr2[i])\n",
    "    i += 1\n",
    "print(mainArray)"
   ]
  },
  {
   "cell_type": "code",
   "execution_count": 44,
   "metadata": {},
   "outputs": [
    {
     "name": "stdout",
     "output_type": "stream",
     "text": [
      "[1, 2, 3, 4, 5, 6, 7, 8, 9]\n"
     ]
    }
   ],
   "source": [
    "# Task 12\n",
    "tipu = (9, 8, 7, 6, 5, 4, 3, 2, 1)\n",
    "arr = list(tipu)\n",
    "arr.sort()\n",
    "tipu = arr \n",
    "print(tipu)"
   ]
  },
  {
   "cell_type": "code",
   "execution_count": 53,
   "metadata": {},
   "outputs": [
    {
     "name": "stdout",
     "output_type": "stream",
     "text": [
      "{'name': 'Brad', 'salary': 8500}\n"
     ]
    }
   ],
   "source": [
    "# Task 13\n",
    "sample_dict = {\n",
    "    'emp1': {'name': \"Jhon\", \"salary\": 7500},\n",
    "    'emp2': {'name': \"Emma\", \"salary\": 8000},\n",
    "    'emp3': {'name': \"Brad\", \"salary\": 500},\n",
    "}\n",
    "\n",
    "sample_dict['emp3']['salary'] = 8500\n",
    "\n",
    "print(sample_dict['emp3'])"
   ]
  },
  {
   "cell_type": "code",
   "execution_count": 54,
   "metadata": {},
   "outputs": [
    {
     "name": "stdout",
     "output_type": "stream",
     "text": [
      "Name : Hasham, roll_number: 70120545, gender: male, cgpa: 3.5\n",
      "Name : Mohid, roll_number: 70120535, gender: male, cgpa: 3.2\n"
     ]
    }
   ],
   "source": [
    "# Task 14\n",
    "class Student:\n",
    "\n",
    "    def __init__(self, name, roll_number, gender, cgpa):\n",
    "        self.name = name\n",
    "        self.roll_number = roll_number\n",
    "        self.gender = gender\n",
    "        self.cgpa = cgpa\n",
    "\n",
    "    def getName(self):\n",
    "        return self.name\n",
    "    \n",
    "    def setName(self, name):\n",
    "        self.name = name\n",
    "\n",
    "    def getRoll_number(self):\n",
    "        return self.roll_number\n",
    "    \n",
    "    def setRoll_number(self, roll_number):\n",
    "        self.roll_number\n",
    "\n",
    "    def getGender(self):\n",
    "        return self.gender\n",
    "    \n",
    "    def setGender(self, gender):\n",
    "        self.gender = gender\n",
    "\n",
    "    def getCgpa(self):\n",
    "        return self.cgpa\n",
    "    \n",
    "    def setCgps(self, cgpa):\n",
    "        self.cgpa = cgpa\n",
    "\n",
    "class Students:\n",
    "\n",
    "    def __init__(self):\n",
    "        self.students = []\n",
    "    \n",
    "    def addStudent(self, student):\n",
    "        self.students.append(student)\n",
    "    \n",
    "    def maleStudents(self):\n",
    "        for student in self.students:\n",
    "            if student.getGender() == 'male':\n",
    "                print(f\"Name : {student.name}, roll_number: {student.roll_number}, gender: {student.gender}, cgpa: {student.cgpa}\")\n",
    "\n",
    "student1 = Student('Hasham', \"70120545\", \"male\", \"3.5\")\n",
    "student2 = Student('Mohid', \"70120535\", \"male\", \"3.2\")\n",
    "student3 = Student('Bilaal', \"70120541\", \"female\", \"4\")\n",
    "\n",
    "students = Students()\n",
    "\n",
    "students.addStudent(student1)\n",
    "students.addStudent(student2)\n",
    "students.addStudent(student3)\n",
    "\n",
    "students.maleStudents()"
   ]
  }
 ],
 "metadata": {
  "kernelspec": {
   "display_name": "Python 3",
   "language": "python",
   "name": "python3"
  },
  "language_info": {
   "codemirror_mode": {
    "name": "ipython",
    "version": 3
   },
   "file_extension": ".py",
   "mimetype": "text/x-python",
   "name": "python",
   "nbconvert_exporter": "python",
   "pygments_lexer": "ipython3",
   "version": "3.9.6"
  }
 },
 "nbformat": 4,
 "nbformat_minor": 2
}
